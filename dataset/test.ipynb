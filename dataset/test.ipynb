{
 "cells": [
  {
   "cell_type": "code",
   "execution_count": 1,
   "metadata": {},
   "outputs": [
    {
     "name": "stdout",
     "output_type": "stream",
     "text": [
      "Min: 1 | Max: 8 | Mean: 4.6 | Std: 2.244994432064365\n"
     ]
    }
   ],
   "source": [
    "import numpy as np\n",
    "\n",
    "numbers = np.array([1, 8, 5, 4, 5])\n",
    "\n",
    "numbers_min = np.min(numbers)\n",
    "numbers_max = np.max(numbers)\n",
    "numbers_mean = np.mean(numbers)\n",
    "numbers_std = np.std(numbers)\n",
    "\n",
    "print(f'Min: {numbers_min} | Max: {numbers_max} | Mean: {numbers_mean} | Std: {numbers_std}')\n",
    "\n"
   ]
  },
  {
   "cell_type": "code",
   "execution_count": 3,
   "metadata": {},
   "outputs": [
    {
     "name": "stdout",
     "output_type": "stream",
     "text": [
      "Mean: 0.5142857142857142 | Std: 0.32071349029490925\n",
      "Mean: 0.5142857142857142 | Std: 0.32071349029490925\n"
     ]
    }
   ],
   "source": [
    "nnumbers = (numbers - numbers_min) / (numbers_max - numbers_min)\n",
    "\n",
    "\n",
    "nnumbers_mean = np.mean(nnumbers)\n",
    "nnumbers_std = np.std(nnumbers)\n",
    "\n",
    "print(f'Mean: {nnumbers_mean} | Std: {nnumbers_std}')\n",
    "\n",
    "other_mean = (numbers_mean - numbers_min) / (numbers_max - numbers_min)\n",
    "other_std = numbers_std / (numbers_max - numbers_min)\n",
    "\n",
    "print(f'Mean: {other_mean} | Std: {other_std}')"
   ]
  }
 ],
 "metadata": {
  "kernelspec": {
   "display_name": "venv",
   "language": "python",
   "name": "python3"
  },
  "language_info": {
   "codemirror_mode": {
    "name": "ipython",
    "version": 3
   },
   "file_extension": ".py",
   "mimetype": "text/x-python",
   "name": "python",
   "nbconvert_exporter": "python",
   "pygments_lexer": "ipython3",
   "version": "3.10.6"
  },
  "orig_nbformat": 4,
  "vscode": {
   "interpreter": {
    "hash": "3fc74c91ca771926126db323d1115e4d4168b334acf6229be91f4cee6eb3e3cd"
   }
  }
 },
 "nbformat": 4,
 "nbformat_minor": 2
}
