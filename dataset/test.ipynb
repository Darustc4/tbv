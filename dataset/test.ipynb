{
 "cells": [
  {
   "cell_type": "code",
   "execution_count": 16,
   "metadata": {},
   "outputs": [],
   "source": [
    "import nrrd\n",
    "import numpy as np\n",
    "import pandas as pd\n",
    "import json\n",
    "import os"
   ]
  },
  {
   "cell_type": "code",
   "execution_count": 17,
   "metadata": {},
   "outputs": [
    {
     "data": {
      "text/html": [
       "<div>\n",
       "<style scoped>\n",
       "    .dataframe tbody tr th:only-of-type {\n",
       "        vertical-align: middle;\n",
       "    }\n",
       "\n",
       "    .dataframe tbody tr th {\n",
       "        vertical-align: top;\n",
       "    }\n",
       "\n",
       "    .dataframe thead th {\n",
       "        text-align: right;\n",
       "    }\n",
       "</style>\n",
       "<table border=\"1\" class=\"dataframe\">\n",
       "  <thead>\n",
       "    <tr style=\"text-align: right;\">\n",
       "      <th></th>\n",
       "      <th>tbv</th>\n",
       "      <th>age</th>\n",
       "      <th>spacings</th>\n",
       "    </tr>\n",
       "  </thead>\n",
       "  <tbody>\n",
       "    <tr>\n",
       "      <th>0</th>\n",
       "      <td>254.62</td>\n",
       "      <td>42</td>\n",
       "      <td>[1.2852881809934633, 0.9473239581027518, 1.080...</td>\n",
       "    </tr>\n",
       "    <tr>\n",
       "      <th>1</th>\n",
       "      <td>207.77</td>\n",
       "      <td>29</td>\n",
       "      <td>[1.2048591046368167, 0.8880435631785303, 1.041...</td>\n",
       "    </tr>\n",
       "    <tr>\n",
       "      <th>2</th>\n",
       "      <td>185.05</td>\n",
       "      <td>4</td>\n",
       "      <td>[1.0859822328954167, 0.7917719068520369, 0.938...</td>\n",
       "    </tr>\n",
       "    <tr>\n",
       "      <th>3</th>\n",
       "      <td>307.47</td>\n",
       "      <td>33</td>\n",
       "      <td>[1.2048591046368167, 0.9840482727113443, 1.012...</td>\n",
       "    </tr>\n",
       "    <tr>\n",
       "      <th>4</th>\n",
       "      <td>197.90</td>\n",
       "      <td>4</td>\n",
       "      <td>[1.1733730197728882, 0.8367879304356455, 1.014...</td>\n",
       "    </tr>\n",
       "  </tbody>\n",
       "</table>\n",
       "</div>"
      ],
      "text/plain": [
       "      tbv  age                                           spacings\n",
       "0  254.62   42  [1.2852881809934633, 0.9473239581027518, 1.080...\n",
       "1  207.77   29  [1.2048591046368167, 0.8880435631785303, 1.041...\n",
       "2  185.05    4  [1.0859822328954167, 0.7917719068520369, 0.938...\n",
       "3  307.47   33  [1.2048591046368167, 0.9840482727113443, 1.012...\n",
       "4  197.90    4  [1.1733730197728882, 0.8367879304356455, 1.014..."
      ]
     },
     "execution_count": 17,
     "metadata": {},
     "output_type": "execute_result"
    }
   ],
   "source": [
    "stats = []\n",
    "\n",
    "for file in os.listdir(\"dataset\"):\n",
    "    if file.endswith(\".nrrd\"):\n",
    "        header = nrrd.read_header(os.path.join(\"dataset\", file))\n",
    "        stats.append({\"tbv\": float(header[\"tbv\"]), \"age\": int(header[\"age_days\"]), \"spacings\": header[\"spacings\"]})\n",
    "\n",
    "df = pd.DataFrame(stats)\n",
    "df.head()"
   ]
  },
  {
   "cell_type": "code",
   "execution_count": 18,
   "metadata": {},
   "outputs": [
    {
     "name": "stdout",
     "output_type": "stream",
     "text": [
      "Total volumes: 370\n",
      "Age range: 0 - 98\n",
      "Age mean: 23.313513513513513\n",
      "Age std: 21.032793625098133\n",
      "TBV range: 73.72 - 449.16\n",
      "TBV mean: 215.16213513513514\n",
      "TBV std: 62.348833332485604\n"
     ]
    }
   ],
   "source": [
    "print(f\"Total volumes: {len(df)}\")\n",
    "print(f\"Age range: {df['age'].min()} - {df['age'].max()}\")\n",
    "print(f\"Age mean: {df['age'].mean()}\")\n",
    "print(f\"Age std: {df['age'].std()}\")\n",
    "print(f\"TBV range: {df['tbv'].min()} - {df['tbv'].max()}\")\n",
    "print(f\"TBV mean: {df['tbv'].mean()}\")\n",
    "print(f\"TBV std: {df['tbv'].std()}\")\n"
   ]
  }
 ],
 "metadata": {
  "kernelspec": {
   "display_name": "venv",
   "language": "python",
   "name": "python3"
  },
  "language_info": {
   "codemirror_mode": {
    "name": "ipython",
    "version": 3
   },
   "file_extension": ".py",
   "mimetype": "text/x-python",
   "name": "python",
   "nbconvert_exporter": "python",
   "pygments_lexer": "ipython3",
   "version": "3.8.10"
  },
  "orig_nbformat": 4,
  "vscode": {
   "interpreter": {
    "hash": "3fc74c91ca771926126db323d1115e4d4168b334acf6229be91f4cee6eb3e3cd"
   }
  }
 },
 "nbformat": 4,
 "nbformat_minor": 2
}
